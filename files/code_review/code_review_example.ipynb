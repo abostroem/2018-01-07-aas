{
 "cells": [
  {
   "cell_type": "code",
   "execution_count": null,
   "metadata": {
    "collapsed": true
   },
   "outputs": [],
   "source": [
    "import matplotlib\n",
    "import os\n",
    "from astropy.io import fits\n",
    "import glob\n",
    "data = fits.getdata('/Users/bostroem/Desktop/images/hubble_img.fits')\n",
    "col1 = data[20, :] \n",
    "col2 = data[200, :]\n",
    "col3 = data[800, :]\n",
    "pyplot.figure()\n",
    "pyplot.plot(np.arange(1024), col1)\n",
    "import numpy as np\n",
    "mean = np.mean(col1)\n",
    "pyplot.axhline(mean)\n",
    "pyplot.legend(['Column 20', 'Mean'])\n",
    "pyplot.title('Plot of Column 20 Values and Mean')\n",
    "pyplot.xlabel('Pixels')\n",
    "pyplot.ylabel('Intensity')\n",
    "pyplot.figure()\n",
    "pyplot.plot(np.arange(1024), col2)\n",
    "mean = np.mean(col2)\n",
    "pyplot.axhline(mean)\n",
    "pyplot.legend(['Column 200', 'Mean'])\n",
    "pyplot.title('Plot of Column 200 Values and Mean')\n",
    "pyplot.xlabel('Pixels')\n",
    "pyplot.ylabel('Intensity')\n",
    "pyplot.figure()\n",
    "pyplot.plot(np.arange(1024), col3)\n",
    "mean = np.mean(col3)\n",
    "pyplot.axhline(mean)\n",
    "pyplot.legend(['Column 800', 'Mean'])\n",
    "pyplot.title('Plot of Column 800 Values and Mean')\n",
    "pyplot.xlabel('Pixels')\n",
    "pyplot.ylabel('Intensity')"
   ]
  },
  {
   "cell_type": "markdown",
   "metadata": {
    "collapsed": true
   },
   "source": [
    "### Class solution:"
   ]
  },
  {
   "cell_type": "code",
   "execution_count": null,
   "metadata": {
    "collapsed": true
   },
   "outputs": [],
   "source": [
    "\"\"\"Reads in Hubble data and creates three plots of column values\n",
    "\n",
    "Authors\n",
    "-------\n",
    "    Azalee\n",
    "\n",
    "Use\n",
    "---\n",
    "    python code_review_example.py\n",
    "\"\"\"\n",
    "\n",
    "from astropy.io import fits\n",
    "import matplotlib.pyplot as plt\n",
    "import numpy as np\n",
    "\n",
    "image = fits.getdata('/Users/bostroem/Desktop/images/hubble_img.fits')\n",
    "\n",
    "for col in [20, 200, 800]:\n",
    "    \n",
    "    column = image[:, col]\n",
    "    mean = np.mean(column)\n",
    "    \n",
    "    # Make the plot\n",
    "    plt.figure()\n",
    "    plt.plot(np.arange(len(column)), column)\n",
    "    plt.axhline(mean)\n",
    "    plt.legend(['Column {}'.format(col), 'Mean'])\n",
    "    plt.title('Plot of Column {} Values and Mean'.format(col))\n",
    "    plt.xlabel('Pixels')\n",
    "    plt.ylabel('Intensity')"
   ]
  }
 ],
 "metadata": {
  "anaconda-cloud": {},
  "kernelspec": {
   "display_name": "Python [conda env:astroconda3]",
   "language": "python",
   "name": "conda-env-astroconda3-py"
  },
  "language_info": {
   "codemirror_mode": {
    "name": "ipython",
    "version": 3
   },
   "file_extension": ".py",
   "mimetype": "text/x-python",
   "name": "python",
   "nbconvert_exporter": "python",
   "pygments_lexer": "ipython3",
   "version": "3.5.4"
  }
 },
 "nbformat": 4,
 "nbformat_minor": 1
}
