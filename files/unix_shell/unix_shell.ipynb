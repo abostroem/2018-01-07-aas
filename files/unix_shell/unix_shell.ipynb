{
 "cells": [
  {
   "cell_type": "code",
   "execution_count": 1,
   "metadata": {
    "collapsed": true,
    "slideshow": {
     "slide_type": "skip"
    }
   },
   "outputs": [],
   "source": [
    "# To open this as a presentation\n",
    "# jupyter nbconvert unix_shell.ipynb --to slides --post serve"
   ]
  },
  {
   "cell_type": "markdown",
   "metadata": {
    "slideshow": {
     "slide_type": "slide"
    }
   },
   "source": [
    "# Setup\n",
    "\n",
    "- Download http://swcarpentry.github.io/shell-novice/data/shell-novice-data.zip\n",
    "- Extract the files to your Desktop\n",
    "- Open a terminal and `cd` to the newly downloaded directory"
   ]
  },
  {
   "cell_type": "markdown",
   "metadata": {
    "slideshow": {
     "slide_type": "slide"
    }
   },
   "source": [
    "# Working with Files and Directories"
   ]
  },
  {
   "cell_type": "markdown",
   "metadata": {
    "slideshow": {
     "slide_type": "fragment"
    }
   },
   "source": [
    "- How can I create, copy, and delete files and directories?\n",
    "- How can I edit files?"
   ]
  },
  {
   "cell_type": "code",
   "execution_count": 2,
   "metadata": {
    "slideshow": {
     "slide_type": "skip"
    }
   },
   "outputs": [
    {
     "name": "stdout",
     "output_type": "stream",
     "text": [
      "/Users/bourque/Desktop/swc/data-shell\n"
     ]
    }
   ],
   "source": [
    "cd /Users/bourque/Desktop/swc/data-shell/"
   ]
  },
  {
   "cell_type": "code",
   "execution_count": 3,
   "metadata": {
    "slideshow": {
     "slide_type": "skip"
    }
   },
   "outputs": [
    {
     "name": "stdout",
     "output_type": "stream",
     "text": [
      "\u001b[34mcreatures\u001b[m\u001b[m/          \u001b[34mmolecules\u001b[m\u001b[m/          notes.txt           solar.pdf\r\n",
      "\u001b[34mdata\u001b[m\u001b[m/               \u001b[34mnorth-pacific-gyre\u001b[m\u001b[m/ pizza.cfg           \u001b[34mwriting\u001b[m\u001b[m/\r\n"
     ]
    }
   ],
   "source": [
    "ls -F"
   ]
  },
  {
   "cell_type": "code",
   "execution_count": 4,
   "metadata": {
    "collapsed": true,
    "slideshow": {
     "slide_type": "skip"
    }
   },
   "outputs": [],
   "source": [
    "mkdir thesis"
   ]
  },
  {
   "cell_type": "code",
   "execution_count": 5,
   "metadata": {
    "slideshow": {
     "slide_type": "skip"
    }
   },
   "outputs": [
    {
     "name": "stdout",
     "output_type": "stream",
     "text": [
      "\u001b[34mcreatures\u001b[m\u001b[m/          \u001b[34mnorth-pacific-gyre\u001b[m\u001b[m/ solar.pdf\r\n",
      "\u001b[34mdata\u001b[m\u001b[m/               notes.txt           \u001b[34mthesis\u001b[m\u001b[m/\r\n",
      "\u001b[34mmolecules\u001b[m\u001b[m/          pizza.cfg           \u001b[34mwriting\u001b[m\u001b[m/\r\n"
     ]
    }
   ],
   "source": [
    "ls -F"
   ]
  },
  {
   "cell_type": "code",
   "execution_count": 6,
   "metadata": {
    "slideshow": {
     "slide_type": "skip"
    }
   },
   "outputs": [
    {
     "name": "stdout",
     "output_type": "stream",
     "text": [
      "/Users/bourque/Desktop/swc/data-shell/thesis\n"
     ]
    }
   ],
   "source": [
    "cd thesis"
   ]
  },
  {
   "cell_type": "code",
   "execution_count": 7,
   "metadata": {
    "collapsed": true,
    "slideshow": {
     "slide_type": "skip"
    }
   },
   "outputs": [],
   "source": [
    "# nano draft.txt"
   ]
  },
  {
   "cell_type": "code",
   "execution_count": 8,
   "metadata": {
    "slideshow": {
     "slide_type": "skip"
    }
   },
   "outputs": [],
   "source": [
    "ls"
   ]
  },
  {
   "cell_type": "code",
   "execution_count": 9,
   "metadata": {
    "slideshow": {
     "slide_type": "skip"
    }
   },
   "outputs": [
    {
     "name": "stdout",
     "output_type": "stream",
     "text": [
      "rm: draft.txt: No such file or directory\r\n"
     ]
    }
   ],
   "source": [
    "rm draft.txt"
   ]
  },
  {
   "cell_type": "code",
   "execution_count": 14,
   "metadata": {
    "collapsed": true,
    "slideshow": {
     "slide_type": "skip"
    }
   },
   "outputs": [],
   "source": [
    "ls"
   ]
  },
  {
   "cell_type": "code",
   "execution_count": 16,
   "metadata": {
    "collapsed": true,
    "slideshow": {
     "slide_type": "skip"
    }
   },
   "outputs": [],
   "source": [
    "# Another way to accomplish the same thing (creating a file)\n",
    "!touch draft.txt"
   ]
  },
  {
   "cell_type": "code",
   "execution_count": 17,
   "metadata": {
    "slideshow": {
     "slide_type": "skip"
    }
   },
   "outputs": [
    {
     "name": "stdout",
     "output_type": "stream",
     "text": [
      "draft.txt\r\n"
     ]
    }
   ],
   "source": [
    "ls"
   ]
  },
  {
   "cell_type": "code",
   "execution_count": 18,
   "metadata": {
    "slideshow": {
     "slide_type": "skip"
    }
   },
   "outputs": [
    {
     "name": "stdout",
     "output_type": "stream",
     "text": [
      "/Users/bourque/Desktop/swc/data-shell\n"
     ]
    }
   ],
   "source": [
    "cd ../"
   ]
  },
  {
   "cell_type": "code",
   "execution_count": 19,
   "metadata": {
    "slideshow": {
     "slide_type": "skip"
    }
   },
   "outputs": [
    {
     "name": "stdout",
     "output_type": "stream",
     "text": [
      "\u001b[34mcreatures\u001b[m\u001b[m/          \u001b[34mnorth-pacific-gyre\u001b[m\u001b[m/ solar.pdf\r\n",
      "\u001b[34mdata\u001b[m\u001b[m/               notes.txt           \u001b[34mthesis\u001b[m\u001b[m/\r\n",
      "\u001b[34mmolecules\u001b[m\u001b[m/          pizza.cfg           \u001b[34mwriting\u001b[m\u001b[m/\r\n"
     ]
    }
   ],
   "source": [
    "ls"
   ]
  },
  {
   "cell_type": "code",
   "execution_count": 20,
   "metadata": {
    "slideshow": {
     "slide_type": "skip"
    }
   },
   "outputs": [
    {
     "name": "stdout",
     "output_type": "stream",
     "text": [
      "rm: thesis: is a directory\r\n"
     ]
    }
   ],
   "source": [
    "rm thesis"
   ]
  },
  {
   "cell_type": "code",
   "execution_count": 21,
   "metadata": {
    "collapsed": true,
    "slideshow": {
     "slide_type": "skip"
    }
   },
   "outputs": [],
   "source": [
    "rm -r thesis"
   ]
  },
  {
   "cell_type": "code",
   "execution_count": 22,
   "metadata": {
    "slideshow": {
     "slide_type": "skip"
    }
   },
   "outputs": [
    {
     "name": "stdout",
     "output_type": "stream",
     "text": [
      "\u001b[34mcreatures\u001b[m\u001b[m/          \u001b[34mmolecules\u001b[m\u001b[m/          notes.txt           solar.pdf\r\n",
      "\u001b[34mdata\u001b[m\u001b[m/               \u001b[34mnorth-pacific-gyre\u001b[m\u001b[m/ pizza.cfg           \u001b[34mwriting\u001b[m\u001b[m/\r\n"
     ]
    }
   ],
   "source": [
    "ls"
   ]
  },
  {
   "cell_type": "code",
   "execution_count": 23,
   "metadata": {
    "collapsed": true,
    "slideshow": {
     "slide_type": "skip"
    }
   },
   "outputs": [],
   "source": [
    "mkdir thesis"
   ]
  },
  {
   "cell_type": "code",
   "execution_count": 26,
   "metadata": {
    "collapsed": true,
    "slideshow": {
     "slide_type": "skip"
    }
   },
   "outputs": [],
   "source": [
    "!touch thesis/draft.txt"
   ]
  },
  {
   "cell_type": "code",
   "execution_count": 27,
   "metadata": {
    "slideshow": {
     "slide_type": "skip"
    }
   },
   "outputs": [
    {
     "name": "stdout",
     "output_type": "stream",
     "text": [
      "draft.txt\r\n"
     ]
    }
   ],
   "source": [
    "ls thesis"
   ]
  },
  {
   "cell_type": "code",
   "execution_count": 28,
   "metadata": {
    "collapsed": true,
    "slideshow": {
     "slide_type": "skip"
    }
   },
   "outputs": [],
   "source": [
    "mv thesis/draft.txt thesis/first_draft.txt"
   ]
  },
  {
   "cell_type": "code",
   "execution_count": 29,
   "metadata": {
    "slideshow": {
     "slide_type": "skip"
    }
   },
   "outputs": [
    {
     "name": "stdout",
     "output_type": "stream",
     "text": [
      "first_draft.txt\r\n"
     ]
    }
   ],
   "source": [
    "ls thesis"
   ]
  },
  {
   "cell_type": "code",
   "execution_count": 30,
   "metadata": {
    "collapsed": true,
    "slideshow": {
     "slide_type": "skip"
    }
   },
   "outputs": [],
   "source": [
    "mv thesis/first_draft.txt ."
   ]
  },
  {
   "cell_type": "code",
   "execution_count": 31,
   "metadata": {
    "slideshow": {
     "slide_type": "skip"
    }
   },
   "outputs": [
    {
     "name": "stdout",
     "output_type": "stream",
     "text": [
      "\u001b[34mcreatures\u001b[m\u001b[m/          \u001b[34mmolecules\u001b[m\u001b[m/          pizza.cfg           \u001b[34mwriting\u001b[m\u001b[m/\r\n",
      "\u001b[34mdata\u001b[m\u001b[m/               \u001b[34mnorth-pacific-gyre\u001b[m\u001b[m/ solar.pdf\r\n",
      "first_draft.txt     notes.txt           \u001b[34mthesis\u001b[m\u001b[m/\r\n"
     ]
    }
   ],
   "source": [
    "ls"
   ]
  },
  {
   "cell_type": "code",
   "execution_count": 40,
   "metadata": {
    "slideshow": {
     "slide_type": "skip"
    }
   },
   "outputs": [
    {
     "name": "stdout",
     "output_type": "stream",
     "text": [
      "/Users/bourque/Desktop/swc/data-shell/thesis\n"
     ]
    }
   ],
   "source": [
    "cd thesis/"
   ]
  },
  {
   "cell_type": "code",
   "execution_count": 42,
   "metadata": {
    "collapsed": true,
    "slideshow": {
     "slide_type": "skip"
    }
   },
   "outputs": [],
   "source": [
    "!touch statistics1.txt"
   ]
  },
  {
   "cell_type": "code",
   "execution_count": 43,
   "metadata": {
    "collapsed": true,
    "slideshow": {
     "slide_type": "skip"
    }
   },
   "outputs": [],
   "source": [
    "cp statistics1.txt statistics2.txt"
   ]
  },
  {
   "cell_type": "code",
   "execution_count": 45,
   "metadata": {
    "slideshow": {
     "slide_type": "skip"
    }
   },
   "outputs": [
    {
     "name": "stdout",
     "output_type": "stream",
     "text": [
      "statistics1.txt  statistics2.txt\r\n"
     ]
    }
   ],
   "source": [
    "ls -F"
   ]
  },
  {
   "cell_type": "markdown",
   "metadata": {
    "slideshow": {
     "slide_type": "fragment"
    }
   },
   "source": [
    "**Exercise**\n",
    "\n",
    "What is the output of the closing `ls` command in the sequence shown below?  Post your answer in the Etherpad.\n",
    "\n",
    "```\n",
    "$ pwd\n",
    "```\n",
    "\n",
    "```\n",
    "  /Users/matt/data/\n",
    "```\n",
    "\n",
    "```\n",
    "$ ls\n",
    "```\n",
    "\n",
    "```\n",
    "  proteins.dat\n",
    "```\n",
    "\n",
    "```\n",
    "$ mkdir recombine\n",
    "$ mv proteins.dat recombine\n",
    "$ cp recombine/proteins.dat ../proteins-saved.dat\n",
    "$ ls\n",
    "```\n",
    "\n",
    "1. `proteins-saved.dat recombine`\n",
    "2. `recombine`\n",
    "3. `proteins.dat recombine`\n",
    "4. `proteins-saved.dat`"
   ]
  },
  {
   "cell_type": "markdown",
   "metadata": {
    "slideshow": {
     "slide_type": "skip"
    }
   },
   "source": [
    "*Solution:* 2"
   ]
  },
  {
   "cell_type": "markdown",
   "metadata": {
    "slideshow": {
     "slide_type": "slide"
    }
   },
   "source": [
    "# Pipes and Filters"
   ]
  },
  {
   "cell_type": "markdown",
   "metadata": {
    "slideshow": {
     "slide_type": "fragment"
    }
   },
   "source": [
    "- How can I combine existing commands to do new things?"
   ]
  },
  {
   "cell_type": "code",
   "execution_count": 46,
   "metadata": {
    "slideshow": {
     "slide_type": "skip"
    }
   },
   "outputs": [
    {
     "data": {
      "text/plain": [
       "'/Users/bourque/Desktop/swc/data-shell/thesis'"
      ]
     },
     "execution_count": 46,
     "metadata": {},
     "output_type": "execute_result"
    }
   ],
   "source": [
    "pwd"
   ]
  },
  {
   "cell_type": "code",
   "execution_count": 47,
   "metadata": {
    "slideshow": {
     "slide_type": "skip"
    }
   },
   "outputs": [
    {
     "name": "stdout",
     "output_type": "stream",
     "text": [
      "/Users/bourque/Desktop/swc/data-shell\n"
     ]
    }
   ],
   "source": [
    "cd ../"
   ]
  },
  {
   "cell_type": "code",
   "execution_count": 49,
   "metadata": {
    "slideshow": {
     "slide_type": "skip"
    }
   },
   "outputs": [
    {
     "name": "stdout",
     "output_type": "stream",
     "text": [
      "\u001b[34mcreatures\u001b[m\u001b[m/          \u001b[34mmolecules\u001b[m\u001b[m/          pizza.cfg           \u001b[34mwriting\u001b[m\u001b[m/\r\n",
      "\u001b[34mdata\u001b[m\u001b[m/               \u001b[34mnorth-pacific-gyre\u001b[m\u001b[m/ solar.pdf\r\n",
      "first_draft.txt     notes.txt           \u001b[34mthesis\u001b[m\u001b[m/\r\n"
     ]
    }
   ],
   "source": [
    "ls -F"
   ]
  },
  {
   "cell_type": "code",
   "execution_count": 50,
   "metadata": {
    "slideshow": {
     "slide_type": "skip"
    }
   },
   "outputs": [
    {
     "name": "stdout",
     "output_type": "stream",
     "text": [
      "cubane.pdb   ethane.pdb   methane.pdb  octane.pdb   pentane.pdb  propane.pdb\r\n"
     ]
    }
   ],
   "source": [
    "ls molecules/"
   ]
  },
  {
   "cell_type": "code",
   "execution_count": 51,
   "metadata": {
    "slideshow": {
     "slide_type": "skip"
    }
   },
   "outputs": [
    {
     "name": "stdout",
     "output_type": "stream",
     "text": [
      "/Users/bourque/Desktop/swc/data-shell/molecules\n"
     ]
    }
   ],
   "source": [
    "cd molecules/"
   ]
  },
  {
   "cell_type": "code",
   "execution_count": 54,
   "metadata": {
    "slideshow": {
     "slide_type": "skip"
    }
   },
   "outputs": [
    {
     "name": "stdout",
     "output_type": "stream",
     "text": [
      "      20     156    1158 cubane.pdb\r\n",
      "      12      84     622 ethane.pdb\r\n",
      "       9      57     422 methane.pdb\r\n",
      "      30     246    1828 octane.pdb\r\n",
      "      21     165    1226 pentane.pdb\r\n",
      "      15     111     825 propane.pdb\r\n",
      "     107     819    6081 total\r\n"
     ]
    }
   ],
   "source": [
    "!wc *.pdb"
   ]
  },
  {
   "cell_type": "code",
   "execution_count": 55,
   "metadata": {
    "slideshow": {
     "slide_type": "skip"
    }
   },
   "outputs": [
    {
     "name": "stdout",
     "output_type": "stream",
     "text": [
      "      20 cubane.pdb\r\n",
      "      12 ethane.pdb\r\n",
      "       9 methane.pdb\r\n",
      "      30 octane.pdb\r\n",
      "      21 pentane.pdb\r\n",
      "      15 propane.pdb\r\n",
      "     107 total\r\n"
     ]
    }
   ],
   "source": [
    "!wc -l *.pdb"
   ]
  },
  {
   "cell_type": "code",
   "execution_count": 56,
   "metadata": {
    "collapsed": true,
    "slideshow": {
     "slide_type": "skip"
    }
   },
   "outputs": [],
   "source": [
    "# Can also use -w to get only the number of words\n",
    "# Can also use 0c to get only the number of characters"
   ]
  },
  {
   "cell_type": "markdown",
   "metadata": {
    "slideshow": {
     "slide_type": "skip"
    }
   },
   "source": [
    "What if we cant to know which is the sortest file?  It is easy to do when there are only 6 files, but what if there were 6000?"
   ]
  },
  {
   "cell_type": "code",
   "execution_count": 58,
   "metadata": {
    "collapsed": true,
    "slideshow": {
     "slide_type": "skip"
    }
   },
   "outputs": [],
   "source": [
    "!wc -l *.pdb > lengths.txt"
   ]
  },
  {
   "cell_type": "markdown",
   "metadata": {
    "slideshow": {
     "slide_type": "skip"
    }
   },
   "source": [
    "- The `>` greather than symbol tells the shell to redicect the first command's output instead of printing it to the screen.\n",
    "- This is why there is no screen output\n",
    "- The shell will create the file if it doesn't exist\n",
    "- If the file exists, it will be overwritten, so be careful!"
   ]
  },
  {
   "cell_type": "code",
   "execution_count": 60,
   "metadata": {
    "slideshow": {
     "slide_type": "skip"
    }
   },
   "outputs": [
    {
     "name": "stdout",
     "output_type": "stream",
     "text": [
      "cubane.pdb   lengths.txt  octane.pdb   propane.pdb\r\n",
      "ethane.pdb   methane.pdb  pentane.pdb\r\n"
     ]
    }
   ],
   "source": [
    "ls -F"
   ]
  },
  {
   "cell_type": "code",
   "execution_count": 61,
   "metadata": {
    "slideshow": {
     "slide_type": "skip"
    }
   },
   "outputs": [
    {
     "name": "stdout",
     "output_type": "stream",
     "text": [
      "      20 cubane.pdb\r\n",
      "      12 ethane.pdb\r\n",
      "       9 methane.pdb\r\n",
      "      30 octane.pdb\r\n",
      "      21 pentane.pdb\r\n",
      "      15 propane.pdb\r\n",
      "     107 total\r\n"
     ]
    }
   ],
   "source": [
    "cat lengths.txt"
   ]
  },
  {
   "cell_type": "markdown",
   "metadata": {
    "slideshow": {
     "slide_type": "skip"
    }
   },
   "source": [
    "- Can anyone guess what `cat` stands for? (concatenate)\n",
    "- It prints the contents of files one after another\n",
    "- In this case we only have one file, so `cat` just shows us what it contains"
   ]
  },
  {
   "cell_type": "markdown",
   "metadata": {
    "slideshow": {
     "slide_type": "skip"
    }
   },
   "source": [
    "Does anyone know of a different way to print the contents of a file to the screen?\n",
    "- less lengths.txt\n",
    "- more lengths.txt\n",
    "- (less is more)"
   ]
  },
  {
   "cell_type": "code",
   "execution_count": 64,
   "metadata": {
    "slideshow": {
     "slide_type": "skip"
    }
   },
   "outputs": [
    {
     "name": "stdout",
     "output_type": "stream",
     "text": [
      "       9 methane.pdb\r\n",
      "      12 ethane.pdb\r\n",
      "      15 propane.pdb\r\n",
      "      20 cubane.pdb\r\n",
      "      21 pentane.pdb\r\n",
      "      30 octane.pdb\r\n",
      "     107 total\r\n"
     ]
    }
   ],
   "source": [
    "!sort lengths.txt"
   ]
  },
  {
   "cell_type": "code",
   "execution_count": 65,
   "metadata": {
    "collapsed": true,
    "slideshow": {
     "slide_type": "skip"
    }
   },
   "outputs": [],
   "source": [
    "!sort lengths.txt > sorted_lengths.txt"
   ]
  },
  {
   "cell_type": "code",
   "execution_count": 66,
   "metadata": {
    "slideshow": {
     "slide_type": "skip"
    }
   },
   "outputs": [
    {
     "name": "stdout",
     "output_type": "stream",
     "text": [
      "cubane.pdb          lengths.txt         octane.pdb          propane.pdb\r\n",
      "ethane.pdb          methane.pdb         pentane.pdb         sorted_lengths.txt\r\n"
     ]
    }
   ],
   "source": [
    "ls -F"
   ]
  },
  {
   "cell_type": "code",
   "execution_count": 68,
   "metadata": {
    "slideshow": {
     "slide_type": "skip"
    }
   },
   "outputs": [
    {
     "name": "stdout",
     "output_type": "stream",
     "text": [
      "       9 methane.pdb\r\n"
     ]
    }
   ],
   "source": [
    "!head -n 1 sorted_lengths.txt"
   ]
  },
  {
   "cell_type": "markdown",
   "metadata": {
    "slideshow": {
     "slide_type": "skip"
    }
   },
   "source": [
    "- Note that the `-n 1` flag tells us that we only want the first line of the file \n",
    "- We could use `-n 3` if we wanted the first three lines of the file"
   ]
  },
  {
   "cell_type": "code",
   "execution_count": 69,
   "metadata": {
    "slideshow": {
     "slide_type": "skip"
    }
   },
   "outputs": [
    {
     "name": "stdout",
     "output_type": "stream",
     "text": [
      "       9 methane.pdb\r\n",
      "      12 ethane.pdb\r\n",
      "      15 propane.pdb\r\n",
      "      20 cubane.pdb\r\n",
      "      21 pentane.pdb\r\n",
      "      30 octane.pdb\r\n",
      "     107 total\r\n"
     ]
    }
   ],
   "source": [
    "!head sorted_lengths.txt"
   ]
  },
  {
   "cell_type": "code",
   "execution_count": 1,
   "metadata": {
    "slideshow": {
     "slide_type": "skip"
    }
   },
   "outputs": [
    {
     "name": "stdout",
     "output_type": "stream",
     "text": [
      "tail: sorted_lengths.txt: No such file or directory\r\n"
     ]
    }
   ],
   "source": [
    "!tail -n 1 sorted_lengths.txt"
   ]
  },
  {
   "cell_type": "markdown",
   "metadata": {
    "slideshow": {
     "slide_type": "skip"
    }
   },
   "source": [
    "- We have just learned three new commands:\n",
    "  - `wc` - list the number of lines, words, and characters in a file\n",
    "  - `sort` - sort the contents of a file\n",
    "  - `head` - print the first N lines of a file\n",
    "- We have found the file with the least amount of lines, but what is not-ideal about the way we did it? (intermediate files)"
   ]
  },
  {
   "cell_type": "markdown",
   "metadata": {
    "slideshow": {
     "slide_type": "skip"
    }
   },
   "source": [
    "- The virtical bar `|` between two commands is called a pipe\n",
    "- It tells us that we want to use the output of the command on the left as input to the command on the right\n",
    "- We can chain pipes conecutively\n",
    "- Using pipes, we want to send the output of `wc` command to `sort`, and then the output of the `sort` command to `head`"
   ]
  },
  {
   "cell_type": "code",
   "execution_count": 71,
   "metadata": {
    "slideshow": {
     "slide_type": "skip"
    }
   },
   "outputs": [
    {
     "name": "stdout",
     "output_type": "stream",
     "text": [
      "      20 cubane.pdb\r\n",
      "      12 ethane.pdb\r\n",
      "       9 methane.pdb\r\n",
      "      30 octane.pdb\r\n",
      "      21 pentane.pdb\r\n",
      "      15 propane.pdb\r\n",
      "     107 total\r\n"
     ]
    }
   ],
   "source": [
    "!wc -l *.pdb"
   ]
  },
  {
   "cell_type": "code",
   "execution_count": 75,
   "metadata": {
    "slideshow": {
     "slide_type": "skip"
    }
   },
   "outputs": [
    {
     "name": "stdout",
     "output_type": "stream",
     "text": [
      "       9 methane.pdb\r\n",
      "      12 ethane.pdb\r\n",
      "      15 propane.pdb\r\n",
      "      20 cubane.pdb\r\n",
      "      21 pentane.pdb\r\n",
      "      30 octane.pdb\r\n",
      "     107 total\r\n"
     ]
    }
   ],
   "source": [
    "!wc -l *.pdb | sort -n"
   ]
  },
  {
   "cell_type": "code",
   "execution_count": 73,
   "metadata": {
    "slideshow": {
     "slide_type": "skip"
    }
   },
   "outputs": [
    {
     "name": "stdout",
     "output_type": "stream",
     "text": [
      "       9 methane.pdb\r\n"
     ]
    }
   ],
   "source": [
    "!wc -l *.pdb | sort -n | head -n 1"
   ]
  },
  {
   "cell_type": "code",
   "execution_count": 135,
   "metadata": {
    "collapsed": true,
    "slideshow": {
     "slide_type": "skip"
    }
   },
   "outputs": [],
   "source": [
    "#<img src='/Users/bourque/Desktop/swc/redirects-and-pipes.png'>"
   ]
  },
  {
   "cell_type": "markdown",
   "metadata": {
    "slideshow": {
     "slide_type": "fragment"
    }
   },
   "source": [
    "To recap what we have learned:\n",
    "- `cat` displays the contents of its inputs.\n",
    "- `head` displays the first few lines of its inputs.\n",
    "- `sort` sorts its inputs.\n",
    "- `wc` counts lines (`-l`), words (`-w`), and characters (`-c`) of its inputs.\n",
    "- `command > file` redirects a commands output to a file\n",
    "- `first | second` pipes the output of the first command to be used as the input of the second command"
   ]
  },
  {
   "cell_type": "markdown",
   "metadata": {
    "collapsed": true,
    "slideshow": {
     "slide_type": "fragment"
    }
   },
   "source": [
    "**Exercise**\n",
    "\n",
    "In our current directory, we want to find the 3 files which have the least number of lines. Which command listed below would work? Post your answer in the Etherpad.\n",
    "\n",
    "1. `wc -l * > sort -n > head -n 3`\n",
    "2. `wc -l * | sort -n | head -n 1-3`\n",
    "3. `wc -l * | head -n 3 | sort -n`\n",
    "4. `wc -l * | sort -n | head -n 3`"
   ]
  },
  {
   "cell_type": "markdown",
   "metadata": {
    "slideshow": {
     "slide_type": "skip"
    }
   },
   "source": [
    "*Solution*: 4"
   ]
  },
  {
   "cell_type": "markdown",
   "metadata": {
    "slideshow": {
     "slide_type": "fragment"
    }
   },
   "source": [
    "**Exercise**\n",
    "\n",
    "Write a command that finds the 3 files that have the most number of lines. Post your answer in the Etherpad."
   ]
  },
  {
   "cell_type": "markdown",
   "metadata": {
    "slideshow": {
     "slide_type": "skip"
    }
   },
   "source": [
    "*Solutions*:\n",
    "\n",
    "- `wc -l * | sort -r | head -n 3`\n",
    "- `wc -l * | sort -n | tail -n 4 | head -n 3`"
   ]
  },
  {
   "cell_type": "markdown",
   "metadata": {
    "slideshow": {
     "slide_type": "slide"
    }
   },
   "source": [
    "# Looping over files"
   ]
  },
  {
   "cell_type": "markdown",
   "metadata": {
    "slideshow": {
     "slide_type": "fragment"
    }
   },
   "source": [
    "- How can we perform the same actions on many different files?"
   ]
  },
  {
   "cell_type": "markdown",
   "metadata": {
    "slideshow": {
     "slide_type": "fragment"
    }
   },
   "source": [
    "- Benefits of using loops:\n",
    "  - Productivity improvements through automation (dont have to type same things over and over)\n",
    "  - Reduces amount of typing (and thus typing mistakes)"
   ]
  },
  {
   "cell_type": "code",
   "execution_count": 77,
   "metadata": {
    "slideshow": {
     "slide_type": "skip"
    }
   },
   "outputs": [
    {
     "data": {
      "text/plain": [
       "'/Users/bourque/Desktop/swc/data-shell/molecules'"
      ]
     },
     "execution_count": 77,
     "metadata": {},
     "output_type": "execute_result"
    }
   ],
   "source": [
    "pwd"
   ]
  },
  {
   "cell_type": "code",
   "execution_count": 78,
   "metadata": {
    "slideshow": {
     "slide_type": "skip"
    }
   },
   "outputs": [
    {
     "name": "stdout",
     "output_type": "stream",
     "text": [
      "/Users/bourque/Desktop/swc/data-shell\n"
     ]
    }
   ],
   "source": [
    "cd ../"
   ]
  },
  {
   "cell_type": "code",
   "execution_count": 79,
   "metadata": {
    "slideshow": {
     "slide_type": "skip"
    }
   },
   "outputs": [
    {
     "name": "stdout",
     "output_type": "stream",
     "text": [
      "\u001b[34mcreatures\u001b[m\u001b[m/          \u001b[34mmolecules\u001b[m\u001b[m/          pizza.cfg           \u001b[34mwriting\u001b[m\u001b[m/\r\n",
      "\u001b[34mdata\u001b[m\u001b[m/               \u001b[34mnorth-pacific-gyre\u001b[m\u001b[m/ solar.pdf\r\n",
      "first_draft.txt     notes.txt           \u001b[34mthesis\u001b[m\u001b[m/\r\n"
     ]
    }
   ],
   "source": [
    "ls"
   ]
  },
  {
   "cell_type": "code",
   "execution_count": 80,
   "metadata": {
    "slideshow": {
     "slide_type": "skip"
    }
   },
   "outputs": [
    {
     "name": "stdout",
     "output_type": "stream",
     "text": [
      "/Users/bourque/Desktop/swc/data-shell/creatures\n"
     ]
    }
   ],
   "source": [
    "cd creatures"
   ]
  },
  {
   "cell_type": "code",
   "execution_count": 81,
   "metadata": {
    "slideshow": {
     "slide_type": "skip"
    }
   },
   "outputs": [
    {
     "name": "stdout",
     "output_type": "stream",
     "text": [
      "basilisk.dat  unicorn.dat\r\n"
     ]
    }
   ],
   "source": [
    "ls -F"
   ]
  },
  {
   "cell_type": "markdown",
   "metadata": {
    "slideshow": {
     "slide_type": "skip"
    }
   },
   "source": [
    "- Consider that we want to make backup copies of these files\n",
    "- We want to name them `original_basilisk.dat` and `original_unicorn.dat`\n",
    "- Could use the normal `cp` command one at a time\n",
    "- But what if there were 10 files? or 100 files?\n",
    "- This is where we can use loops"
   ]
  },
  {
   "cell_type": "code",
   "execution_count": 82,
   "metadata": {
    "slideshow": {
     "slide_type": "skip"
    }
   },
   "outputs": [
    {
     "name": "stdout",
     "output_type": "stream",
     "text": [
      "/bin/sh: -c: line 1: syntax error: unexpected end of file\r\n"
     ]
    }
   ],
   "source": [
    "# for filename in basilisk.dat unicorn.dat\n",
    "# do\n",
    "#    head -n 3 $filename\n",
    "# done"
   ]
  },
  {
   "cell_type": "markdown",
   "metadata": {
    "slideshow": {
     "slide_type": "skip"
    }
   },
   "source": [
    "- When the shell sees the keyword `for`, it knows to repeat a command (or a group of commands) once for each item in a list\n",
    "- `filename` is a \"sequence variable\".  For each iteration of this loop, an item in the list is assigned to the sequence variable\n",
    "- whatever is after the `in` keyword is considered the list of items to iterate over\n",
    "- Inside the loop, we call for the variable's value by putting \"$\" in front of it, which tells the shell to substitute the the variable value in place\n"
   ]
  },
  {
   "cell_type": "markdown",
   "metadata": {
    "slideshow": {
     "slide_type": "skip"
    }
   },
   "source": [
    "Note that we chose to call the variable `filename`, but we could have called it anything we wanted to"
   ]
  },
  {
   "cell_type": "code",
   "execution_count": 83,
   "metadata": {
    "collapsed": true,
    "slideshow": {
     "slide_type": "skip"
    }
   },
   "outputs": [],
   "source": [
    "# for item in basilisk.dat unicorn.dat\n",
    "# do\n",
    "#    head -n 3 $item\n",
    "# done"
   ]
  },
  {
   "cell_type": "markdown",
   "metadata": {
    "slideshow": {
     "slide_type": "skip"
    }
   },
   "source": [
    "- However it is *always* encouraged to choose variable names that make sense and can easily be read by other people"
   ]
  },
  {
   "cell_type": "code",
   "execution_count": 84,
   "metadata": {
    "collapsed": true,
    "slideshow": {
     "slide_type": "skip"
    }
   },
   "outputs": [],
   "source": [
    "# for filename in *.dat\n",
    "# do\n",
    "#     echo $filename\n",
    "#     head -n 100 $filename | tail -n 20\n",
    "# done"
   ]
  },
  {
   "cell_type": "code",
   "execution_count": 86,
   "metadata": {
    "slideshow": {
     "slide_type": "skip"
    }
   },
   "outputs": [
    {
     "name": "stdout",
     "output_type": "stream",
     "text": [
      "basilisk.dat  unicorn.dat\r\n"
     ]
    }
   ],
   "source": [
    "ls -F"
   ]
  },
  {
   "cell_type": "markdown",
   "metadata": {
    "slideshow": {
     "slide_type": "fragment"
    }
   },
   "source": [
    "To recap what we have learned:\n",
    "\n",
    "- A `for` loop repeats commands once for everything in a list\n",
    "- Every `for` loop needs a sequence variable to refer to the item it is currently working on\n",
    "- Use '$' to expand a variable\n",
    "- `echo` prints a message back to the screen"
   ]
  },
  {
   "cell_type": "markdown",
   "metadata": {
    "slideshow": {
     "slide_type": "fragment"
    }
   },
   "source": [
    "**Exercise** \n",
    "\n",
    "Write a `for` loop that makes a copy of each filename and names it `original_<filename>`, as well as prints a message to the screen with the name of the new filename.  Post your answer in the Etherpad."
   ]
  },
  {
   "cell_type": "code",
   "execution_count": 3,
   "metadata": {
    "collapsed": true,
    "slideshow": {
     "slide_type": "skip"
    }
   },
   "outputs": [],
   "source": [
    "# for filename in *.dat\n",
    "# do\n",
    "#     cp $filename original-$filename\n",
    "#     echo original-$filename\n",
    "# done"
   ]
  },
  {
   "cell_type": "markdown",
   "metadata": {
    "slideshow": {
     "slide_type": "fragment"
    }
   },
   "source": [
    "**Exercise**\n",
    "\n",
    "In the `data-shell/molecules` directory, `ls` gives the following output:\n",
    "\n",
    "```\n",
    "cubane.pdb  ethane.pdb  methane.pdb  octane.pdb  pentane.pdb  propane.pdb\n",
    "```\n",
    "\n",
    "What is the output of the following code?\n",
    "\n",
    "```\n",
    "for datafile in *.pdb\n",
    "do\n",
    "    ls *.pdb\n",
    "done\n",
    "```\n",
    "\n",
    "How can it be improved to only print each filename once?  Post your answer in the Etherpad."
   ]
  },
  {
   "cell_type": "markdown",
   "metadata": {
    "slideshow": {
     "slide_type": "slide"
    }
   },
   "source": [
    "# Shell Scripts"
   ]
  },
  {
   "cell_type": "markdown",
   "metadata": {
    "slideshow": {
     "slide_type": "fragment"
    }
   },
   "source": [
    "- How can we save and re-use commands?"
   ]
  },
  {
   "cell_type": "markdown",
   "metadata": {
    "slideshow": {
     "slide_type": "fragment"
    }
   },
   "source": [
    "- Save the commands we repeat frequently in files so that we can re-reun them later by typings a single command.\n",
    "- A bunch of commands saved in a file is called a \"shell script\""
   ]
  },
  {
   "cell_type": "code",
   "execution_count": 88,
   "metadata": {
    "slideshow": {
     "slide_type": "skip"
    }
   },
   "outputs": [
    {
     "data": {
      "text/plain": [
       "'/Users/bourque/Desktop/swc/data-shell/creatures'"
      ]
     },
     "execution_count": 88,
     "metadata": {},
     "output_type": "execute_result"
    }
   ],
   "source": [
    "pwd"
   ]
  },
  {
   "cell_type": "code",
   "execution_count": 89,
   "metadata": {
    "slideshow": {
     "slide_type": "skip"
    }
   },
   "outputs": [
    {
     "name": "stdout",
     "output_type": "stream",
     "text": [
      "/Users/bourque/Desktop/swc/data-shell/molecules\n"
     ]
    }
   ],
   "source": [
    "cd ../molecules/"
   ]
  },
  {
   "cell_type": "code",
   "execution_count": 90,
   "metadata": {
    "slideshow": {
     "slide_type": "skip"
    }
   },
   "outputs": [
    {
     "name": "stdout",
     "output_type": "stream",
     "text": [
      "cubane.pdb          lengths.txt         octane.pdb          propane.pdb\r\n",
      "ethane.pdb          methane.pdb         pentane.pdb         sorted_lengths.txt\r\n"
     ]
    }
   ],
   "source": [
    "ls -F"
   ]
  },
  {
   "cell_type": "code",
   "execution_count": 91,
   "metadata": {
    "collapsed": true,
    "slideshow": {
     "slide_type": "skip"
    }
   },
   "outputs": [],
   "source": [
    "# nano middle.sh\n",
    "# head -n 15 octaine.pdb | tail -n 5"
   ]
  },
  {
   "cell_type": "markdown",
   "metadata": {
    "slideshow": {
     "slide_type": "skip"
    }
   },
   "source": [
    "- This selects lines 11-15 of the file `octane.pdb`\n",
    "- Note that we haven't executed any command yet, we are just putting it in a file"
   ]
  },
  {
   "cell_type": "code",
   "execution_count": 92,
   "metadata": {
    "slideshow": {
     "slide_type": "skip"
    }
   },
   "outputs": [
    {
     "name": "stdout",
     "output_type": "stream",
     "text": [
      "cubane.pdb          methane.pdb         pentane.pdb\r\n",
      "ethane.pdb          middle.sh           propane.pdb\r\n",
      "lengths.txt         octane.pdb          sorted_lengths.txt\r\n"
     ]
    }
   ],
   "source": [
    "ls -F"
   ]
  },
  {
   "cell_type": "code",
   "execution_count": 94,
   "metadata": {
    "slideshow": {
     "slide_type": "skip"
    }
   },
   "outputs": [
    {
     "name": "stdout",
     "output_type": "stream",
     "text": [
      "ATOM      9  H           1      -4.502   0.681   0.785  1.00  0.00\r\n",
      "ATOM     10  H           1      -5.254  -0.243  -0.537  1.00  0.00\r\n",
      "ATOM     11  H           1      -4.357   1.252  -0.895  1.00  0.00\r\n",
      "ATOM     12  H           1      -3.009  -0.741  -1.467  1.00  0.00\r\n",
      "ATOM     13  H           1      -3.172  -1.337   0.206  1.00  0.00\r\n"
     ]
    }
   ],
   "source": [
    "!bash middle.sh"
   ]
  },
  {
   "cell_type": "markdown",
   "metadata": {
    "slideshow": {
     "slide_type": "skip"
    }
   },
   "source": [
    "- This is all well and good but what if we want to select lines from an arbitrary file?\n",
    "- We could edit `middle.sh` each time to change the filename but that is not ideal"
   ]
  },
  {
   "cell_type": "code",
   "execution_count": 96,
   "metadata": {
    "collapsed": true,
    "slideshow": {
     "slide_type": "notes"
    }
   },
   "outputs": [],
   "source": [
    "# nano middle.sh\n",
    "# head -n 15 \"$1\" | tail -n 5"
   ]
  },
  {
   "cell_type": "markdown",
   "metadata": {
    "slideshow": {
     "slide_type": "skip"
    }
   },
   "source": [
    "- Inside of a shell script `$1` means \"the first argument on the command line\""
   ]
  },
  {
   "cell_type": "code",
   "execution_count": 100,
   "metadata": {
    "slideshow": {
     "slide_type": "skip"
    }
   },
   "outputs": [
    {
     "name": "stdout",
     "output_type": "stream",
     "text": [
      "ATOM      9  H           1      -4.502   0.681   0.785  1.00  0.00\r\n",
      "ATOM     10  H           1      -5.254  -0.243  -0.537  1.00  0.00\r\n",
      "ATOM     11  H           1      -4.357   1.252  -0.895  1.00  0.00\r\n",
      "ATOM     12  H           1      -3.009  -0.741  -1.467  1.00  0.00\r\n",
      "ATOM     13  H           1      -3.172  -1.337   0.206  1.00  0.00\r\n"
     ]
    }
   ],
   "source": [
    "!bash middle.sh octane.pdb"
   ]
  },
  {
   "cell_type": "code",
   "execution_count": 101,
   "metadata": {
    "slideshow": {
     "slide_type": "skip"
    }
   },
   "outputs": [
    {
     "name": "stdout",
     "output_type": "stream",
     "text": [
      "ATOM      9  H           1       1.324   0.350  -1.332  1.00  0.00\r\n",
      "ATOM     10  H           1       1.271   1.378   0.122  1.00  0.00\r\n",
      "ATOM     11  H           1      -0.074  -0.384   1.288  1.00  0.00\r\n",
      "ATOM     12  H           1      -0.048  -1.362  -0.205  1.00  0.00\r\n",
      "ATOM     13  H           1      -1.183   0.500  -1.412  1.00  0.00\r\n"
     ]
    }
   ],
   "source": [
    "! bash middle.sh pentane.pdb"
   ]
  },
  {
   "cell_type": "markdown",
   "metadata": {
    "slideshow": {
     "slide_type": "skip"
    }
   },
   "source": [
    "- We would still need to adjust `middle.sh` each time we want to change the range of lines\n",
    "- We can add more variables"
   ]
  },
  {
   "cell_type": "code",
   "execution_count": 102,
   "metadata": {
    "collapsed": true,
    "slideshow": {
     "slide_type": "skip"
    }
   },
   "outputs": [],
   "source": [
    "# nano middle.sh\n",
    "# head -n $2 $1 | tail -n $3"
   ]
  },
  {
   "cell_type": "code",
   "execution_count": 103,
   "metadata": {
    "slideshow": {
     "slide_type": "skip"
    }
   },
   "outputs": [
    {
     "name": "stdout",
     "output_type": "stream",
     "text": [
      "ATOM      9  H           1       1.324   0.350  -1.332  1.00  0.00\r\n",
      "ATOM     10  H           1       1.271   1.378   0.122  1.00  0.00\r\n",
      "ATOM     11  H           1      -0.074  -0.384   1.288  1.00  0.00\r\n",
      "ATOM     12  H           1      -0.048  -1.362  -0.205  1.00  0.00\r\n",
      "ATOM     13  H           1      -1.183   0.500  -1.412  1.00  0.00\r\n"
     ]
    }
   ],
   "source": [
    "!bash middle.sh pentane.pdb 15 5"
   ]
  },
  {
   "cell_type": "code",
   "execution_count": 104,
   "metadata": {
    "slideshow": {
     "slide_type": "skip"
    }
   },
   "outputs": [
    {
     "name": "stdout",
     "output_type": "stream",
     "text": [
      "ATOM     14  H           1      -1.259   1.420   0.112  1.00  0.00\r\n",
      "ATOM     15  H           1      -2.608  -0.407   1.130  1.00  0.00\r\n",
      "ATOM     16  H           1      -2.540  -1.303  -0.404  1.00  0.00\r\n",
      "ATOM     17  H           1      -3.393   0.254  -0.321  1.00  0.00\r\n",
      "TER      18              1\r\n"
     ]
    }
   ],
   "source": [
    "!bash middle.sh pentane.pdb 20 5"
   ]
  },
  {
   "cell_type": "code",
   "execution_count": 105,
   "metadata": {
    "slideshow": {
     "slide_type": "skip"
    }
   },
   "outputs": [
    {
     "name": "stdout",
     "output_type": "stream",
     "text": [
      "ATOM     12  H           1      -0.048  -1.362  -0.205  1.00  0.00\r\n",
      "ATOM     13  H           1      -1.183   0.500  -1.412  1.00  0.00\r\n",
      "ATOM     14  H           1      -1.259   1.420   0.112  1.00  0.00\r\n",
      "ATOM     15  H           1      -2.608  -0.407   1.130  1.00  0.00\r\n",
      "ATOM     16  H           1      -2.540  -1.303  -0.404  1.00  0.00\r\n",
      "ATOM     17  H           1      -3.393   0.254  -0.321  1.00  0.00\r\n",
      "TER      18              1\r\n"
     ]
    }
   ],
   "source": [
    "!bash middle.sh pentane.pdb 20 7"
   ]
  },
  {
   "cell_type": "markdown",
   "metadata": {
    "slideshow": {
     "slide_type": "skip"
    }
   },
   "source": [
    "- Remember that we should always be in the business of making it easier for others and out future selves by adding comments"
   ]
  },
  {
   "cell_type": "code",
   "execution_count": 106,
   "metadata": {
    "collapsed": true,
    "slideshow": {
     "slide_type": "skip"
    }
   },
   "outputs": [],
   "source": [
    "# # Select lines from the middle of a file.\n",
    "# # Usage: bash middle.sh filename end_line num_lines\n",
    "# head -n \"$2\" \"$1\" | tail -n \"$3\""
   ]
  },
  {
   "cell_type": "markdown",
   "metadata": {
    "slideshow": {
     "slide_type": "skip"
    }
   },
   "source": [
    "Recall that earler we were working with the command:"
   ]
  },
  {
   "cell_type": "code",
   "execution_count": 108,
   "metadata": {
    "slideshow": {
     "slide_type": "skip"
    }
   },
   "outputs": [
    {
     "name": "stdout",
     "output_type": "stream",
     "text": [
      "       9 methane.pdb\r\n",
      "      12 ethane.pdb\r\n",
      "      15 propane.pdb\r\n",
      "      20 cubane.pdb\r\n",
      "      21 pentane.pdb\r\n",
      "      30 octane.pdb\r\n",
      "     107 total\r\n"
     ]
    }
   ],
   "source": [
    "!wc -l *.pdb | sort -n"
   ]
  },
  {
   "cell_type": "markdown",
   "metadata": {
    "slideshow": {
     "slide_type": "skip"
    }
   },
   "source": [
    "- What if we wanted to turn this into a shell script?\n",
    "- How would we deal with the wildcard?  We dont want to write $1, $2, $3, ...\n",
    "- Use `$@`, a special variable that means \"all of the command line arguments\""
   ]
  },
  {
   "cell_type": "code",
   "execution_count": 109,
   "metadata": {
    "collapsed": true,
    "slideshow": {
     "slide_type": "skip"
    }
   },
   "outputs": [],
   "source": [
    "# nano sorted.sh\n",
    "# # Sort filenames by their length.\n",
    "# # Usage: bash sorted.sh one_or_more_filenames\n",
    "# wc -l \"$@\" | sort -n"
   ]
  },
  {
   "cell_type": "code",
   "execution_count": 110,
   "metadata": {
    "slideshow": {
     "slide_type": "skip"
    }
   },
   "outputs": [
    {
     "name": "stdout",
     "output_type": "stream",
     "text": [
      "       9 methane.pdb\r\n",
      "      12 ethane.pdb\r\n",
      "      15 propane.pdb\r\n",
      "      20 cubane.pdb\r\n",
      "      21 pentane.pdb\r\n",
      "      30 octane.pdb\r\n",
      "     107 total\r\n"
     ]
    }
   ],
   "source": [
    "!bash sorted.sh *.pdb"
   ]
  },
  {
   "cell_type": "code",
   "execution_count": 111,
   "metadata": {
    "slideshow": {
     "slide_type": "skip"
    }
   },
   "outputs": [
    {
     "name": "stdout",
     "output_type": "stream",
     "text": [
      "       9 methane.pdb\r\n",
      "      12 ethane.pdb\r\n",
      "      15 propane.pdb\r\n",
      "      20 cubane.pdb\r\n",
      "      21 pentane.pdb\r\n",
      "      30 octane.pdb\r\n",
      "     163 ../creatures/basilisk.dat\r\n",
      "     163 ../creatures/original-basilisk.dat\r\n",
      "     163 ../creatures/original-unicorn.dat\r\n",
      "     163 ../creatures/unicorn.dat\r\n",
      "     759 total\r\n"
     ]
    }
   ],
   "source": [
    "!bash sorted.sh *.pdb ../creatures/*.dat"
   ]
  },
  {
   "cell_type": "markdown",
   "metadata": {
    "slideshow": {
     "slide_type": "fragment"
    }
   },
   "source": [
    "To recap what we have learned:\n",
    "- We can save commands in files for re-use, called shell scripts.\n",
    "- `bash filename` runs the commands in a saved file.\n",
    "- '$1', '$2', etc. referts to the first command-line argument, the second command-line argument, etc.\n",
    "- '$@' refers to all of a shell scripts command line arguments.\n",
    "- Remember to comment!"
   ]
  },
  {
   "cell_type": "markdown",
   "metadata": {
    "slideshow": {
     "slide_type": "fragment"
    }
   },
   "source": [
    "**Exercise**\n",
    "\n",
    "Write a shell script called `longest.sh` that takes the name of a directory and a filename extension as its arguments, and prints out the name of the file with the most lines in that directory with that extension. For example:\n",
    "\n",
    "```\n",
    "$ bash longest.sh /tmp/data pdb\n",
    "```\n",
    "\n",
    "would print the name of the `.pdb` file in `/tmp/data` that has the most lines."
   ]
  },
  {
   "cell_type": "markdown",
   "metadata": {
    "slideshow": {
     "slide_type": "skip"
    }
   },
   "source": [
    "*Solution:*\n",
    "    \n",
    "```    \n",
    "# Shell script which takes two arguments: \n",
    "#    1. a directory name\n",
    "#    2. a file extension\n",
    "# and prints the name of the file in that directory\n",
    "# with the most lines which matches the file extension.\n",
    "\n",
    "wc -l $1/*.$2 | sort -n | tail -n 2 | head -n 1\n",
    "```"
   ]
  },
  {
   "cell_type": "markdown",
   "metadata": {
    "slideshow": {
     "slide_type": "slide"
    }
   },
   "source": [
    "# Finding Things"
   ]
  },
  {
   "cell_type": "markdown",
   "metadata": {
    "slideshow": {
     "slide_type": "fragment"
    }
   },
   "source": [
    "- How can we find files?\n",
    "- How can we find things in files?"
   ]
  },
  {
   "cell_type": "markdown",
   "metadata": {
    "slideshow": {
     "slide_type": "fragment"
    }
   },
   "source": [
    "- What does it mean to us when we use \"Google\" as a verb? \"To google something\"?\n",
    "- The programming equivelent of this is the word `grep`\n",
    "- `grep` is a contraction of \"global/regular expression print\"\n",
    "- `grep` finds and prints lines in files that match a pattern"
   ]
  },
  {
   "cell_type": "code",
   "execution_count": 112,
   "metadata": {
    "slideshow": {
     "slide_type": "skip"
    }
   },
   "outputs": [
    {
     "data": {
      "text/plain": [
       "'/Users/bourque/Desktop/swc/data-shell/molecules'"
      ]
     },
     "execution_count": 112,
     "metadata": {},
     "output_type": "execute_result"
    }
   ],
   "source": [
    "pwd"
   ]
  },
  {
   "cell_type": "code",
   "execution_count": 113,
   "metadata": {
    "slideshow": {
     "slide_type": "skip"
    }
   },
   "outputs": [
    {
     "name": "stdout",
     "output_type": "stream",
     "text": [
      "/Users/bourque/Desktop/swc/data-shell\n"
     ]
    }
   ],
   "source": [
    "cd ../"
   ]
  },
  {
   "cell_type": "code",
   "execution_count": 114,
   "metadata": {
    "slideshow": {
     "slide_type": "skip"
    }
   },
   "outputs": [
    {
     "name": "stdout",
     "output_type": "stream",
     "text": [
      "\u001b[34mcreatures\u001b[m\u001b[m/          \u001b[34mmolecules\u001b[m\u001b[m/          pizza.cfg           \u001b[34mwriting\u001b[m\u001b[m/\r\n",
      "\u001b[34mdata\u001b[m\u001b[m/               \u001b[34mnorth-pacific-gyre\u001b[m\u001b[m/ solar.pdf\r\n",
      "first_draft.txt     notes.txt           \u001b[34mthesis\u001b[m\u001b[m/\r\n"
     ]
    }
   ],
   "source": [
    "ls -F"
   ]
  },
  {
   "cell_type": "code",
   "execution_count": 115,
   "metadata": {
    "slideshow": {
     "slide_type": "skip"
    }
   },
   "outputs": [
    {
     "name": "stdout",
     "output_type": "stream",
     "text": [
      "/Users/bourque/Desktop/swc/data-shell/writing\n"
     ]
    }
   ],
   "source": [
    "cd writing/"
   ]
  },
  {
   "cell_type": "code",
   "execution_count": 116,
   "metadata": {
    "slideshow": {
     "slide_type": "skip"
    }
   },
   "outputs": [
    {
     "name": "stdout",
     "output_type": "stream",
     "text": [
      "\u001b[34mdata\u001b[m\u001b[m/      haiku.txt  \u001b[34mthesis\u001b[m\u001b[m/    \u001b[34mtools\u001b[m\u001b[m/\r\n"
     ]
    }
   ],
   "source": [
    "ls -F"
   ]
  },
  {
   "cell_type": "code",
   "execution_count": 117,
   "metadata": {
    "slideshow": {
     "slide_type": "skip"
    }
   },
   "outputs": [
    {
     "name": "stdout",
     "output_type": "stream",
     "text": [
      "The Tao that is seen\r\n",
      "Is not the true Tao, until\r\n",
      "You bring fresh toner.\r\n",
      "\r\n",
      "With searching comes loss\r\n",
      "and the presence of absence:\r\n",
      "\"My Thesis\" not found.\r\n",
      "\r\n",
      "Yesterday it worked\r\n",
      "Today it is not working\r\n",
      "Software is like that.\r\n"
     ]
    }
   ],
   "source": [
    "cat haiku.txt"
   ]
  },
  {
   "cell_type": "code",
   "execution_count": 119,
   "metadata": {
    "slideshow": {
     "slide_type": "skip"
    }
   },
   "outputs": [
    {
     "name": "stdout",
     "output_type": "stream",
     "text": [
      "Is not the true Tao, until\r\n",
      "\"My Thesis\" not found.\r\n",
      "Today it is not working\r\n"
     ]
    }
   ],
   "source": [
    "!grep not haiku.txt"
   ]
  },
  {
   "cell_type": "code",
   "execution_count": 122,
   "metadata": {
    "slideshow": {
     "slide_type": "skip"
    }
   },
   "outputs": [
    {
     "name": "stdout",
     "output_type": "stream",
     "text": [
      "The Tao that is seen\r\n",
      "\"My Thesis\" not found.\r\n"
     ]
    }
   ],
   "source": [
    "!grep The haiku.txt"
   ]
  },
  {
   "cell_type": "markdown",
   "metadata": {
    "slideshow": {
     "slide_type": "skip"
    }
   },
   "source": [
    "- Note that it found a match in \"Thesis\"\n",
    "- To restrict matches to lines containing a word, we can use the -w flag"
   ]
  },
  {
   "cell_type": "code",
   "execution_count": 123,
   "metadata": {
    "slideshow": {
     "slide_type": "skip"
    }
   },
   "outputs": [
    {
     "name": "stdout",
     "output_type": "stream",
     "text": [
      "The Tao that is seen\r\n"
     ]
    }
   ],
   "source": [
    "!grep -w The haiku.txt"
   ]
  },
  {
   "cell_type": "markdown",
   "metadata": {
    "slideshow": {
     "slide_type": "skip"
    }
   },
   "source": [
    "- We can search for a phrase by using quotation marks"
   ]
  },
  {
   "cell_type": "code",
   "execution_count": 124,
   "metadata": {
    "slideshow": {
     "slide_type": "skip"
    }
   },
   "outputs": [
    {
     "name": "stdout",
     "output_type": "stream",
     "text": [
      "Today it is not working\r\n"
     ]
    }
   ],
   "source": [
    "!grep -w \"is not\" haiku.txt"
   ]
  },
  {
   "cell_type": "markdown",
   "metadata": {
    "slideshow": {
     "slide_type": "skip"
    }
   },
   "source": [
    "- It is good practice to use quotation marks around the search term, reglardess if it is a single word or not, just to distinguish the search term from the rest of the command"
   ]
  },
  {
   "cell_type": "code",
   "execution_count": 126,
   "metadata": {
    "slideshow": {
     "slide_type": "skip"
    }
   },
   "outputs": [
    {
     "name": "stdout",
     "output_type": "stream",
     "text": [
      "The Tao that is seen\r\n",
      "Today it is not working\r\n",
      "Software is like that.\r\n"
     ]
    }
   ],
   "source": [
    "!grep -w is haiku.txt"
   ]
  },
  {
   "cell_type": "code",
   "execution_count": 127,
   "metadata": {
    "slideshow": {
     "slide_type": "skip"
    }
   },
   "outputs": [
    {
     "name": "stdout",
     "output_type": "stream",
     "text": [
      "The Tao that is seen\r\n",
      "Today it is not working\r\n",
      "Software is like that.\r\n"
     ]
    }
   ],
   "source": [
    "!grep -w \"is\" haiku.txt"
   ]
  },
  {
   "cell_type": "markdown",
   "metadata": {
    "slideshow": {
     "slide_type": "skip"
    }
   },
   "source": [
    "- Another useful option is the `-n` flag, which numbers the lines that match"
   ]
  },
  {
   "cell_type": "code",
   "execution_count": 128,
   "metadata": {
    "slideshow": {
     "slide_type": "skip"
    }
   },
   "outputs": [
    {
     "name": "stdout",
     "output_type": "stream",
     "text": [
      "5:With searching comes loss\r\n",
      "9:Yesterday it worked\r\n",
      "10:Today it is not working\r\n"
     ]
    }
   ],
   "source": [
    "!grep -n \"it\" haiku.txt"
   ]
  },
  {
   "cell_type": "markdown",
   "metadata": {
    "slideshow": {
     "slide_type": "skip"
    }
   },
   "source": [
    "- Note that these flags can be combined"
   ]
  },
  {
   "cell_type": "code",
   "execution_count": 129,
   "metadata": {
    "slideshow": {
     "slide_type": "skip"
    }
   },
   "outputs": [
    {
     "name": "stdout",
     "output_type": "stream",
     "text": [
      "2:Is not the true Tao, until\r\n",
      "6:and the presence of absence:\r\n"
     ]
    }
   ],
   "source": [
    "!grep -n -w \"the\" haiku.txt"
   ]
  },
  {
   "cell_type": "markdown",
   "metadata": {
    "slideshow": {
     "slide_type": "skip"
    }
   },
   "source": [
    "- The flag `-i` makes the search term case-insensitive"
   ]
  },
  {
   "cell_type": "code",
   "execution_count": 130,
   "metadata": {
    "slideshow": {
     "slide_type": "skip"
    }
   },
   "outputs": [
    {
     "name": "stdout",
     "output_type": "stream",
     "text": [
      "1:The Tao that is seen\r\n",
      "2:Is not the true Tao, until\r\n",
      "6:and the presence of absence:\r\n"
     ]
    }
   ],
   "source": [
    "!grep -n -w -i \"the\" haiku.txt"
   ]
  },
  {
   "cell_type": "markdown",
   "metadata": {
    "slideshow": {
     "slide_type": "skip"
    }
   },
   "source": [
    "- The flag `-v` will invert the search, for if we want the output lines that do not contain the word \"the\""
   ]
  },
  {
   "cell_type": "code",
   "execution_count": 131,
   "metadata": {
    "slideshow": {
     "slide_type": "skip"
    }
   },
   "outputs": [
    {
     "name": "stdout",
     "output_type": "stream",
     "text": [
      "1:The Tao that is seen\r\n",
      "3:You bring fresh toner.\r\n",
      "4:\r\n",
      "5:With searching comes loss\r\n",
      "7:\"My Thesis\" not found.\r\n",
      "8:\r\n",
      "9:Yesterday it worked\r\n",
      "10:Today it is not working\r\n",
      "11:Software is like that.\r\n"
     ]
    }
   ],
   "source": [
    "!grep -n -w -v \"the\" haiku.txt"
   ]
  },
  {
   "cell_type": "code",
   "execution_count": 132,
   "metadata": {
    "slideshow": {
     "slide_type": "skip"
    }
   },
   "outputs": [
    {
     "name": "stdout",
     "output_type": "stream",
     "text": [
      "Usage: grep [OPTION]... PATTERN [FILE]...\r\n",
      "Search for PATTERN in each FILE or standard input.\r\n",
      "PATTERN is, by default, a basic regular expression (BRE).\r\n",
      "Example: grep -i 'hello world' menu.h main.c\r\n",
      "\r\n",
      "Regexp selection and interpretation:\r\n",
      "  -E, --extended-regexp     PATTERN is an extended regular expression (ERE)\r\n",
      "  -F, --fixed-strings       PATTERN is a set of newline-separated fixed strings\r\n",
      "  -G, --basic-regexp        PATTERN is a basic regular expression (BRE)\r\n",
      "  -P, --perl-regexp         PATTERN is a Perl regular expression\r\n",
      "  -e, --regexp=PATTERN      use PATTERN for matching\r\n",
      "  -f, --file=FILE           obtain PATTERN from FILE\r\n",
      "  -i, --ignore-case         ignore case distinctions\r\n",
      "  -w, --word-regexp         force PATTERN to match only whole words\r\n",
      "  -x, --line-regexp         force PATTERN to match only whole lines\r\n",
      "  -z, --null-data           a data line ends in 0 byte, not newline\r\n",
      "\r\n",
      "Miscellaneous:\r\n",
      "  -s, --no-messages         suppress error messages\r\n",
      "  -v, --invert-match        select non-matching lines\r\n",
      "  -V, --version             display version information and exit\r\n",
      "      --help                display this help text and exit\r\n",
      "\r\n",
      "Output control:\r\n",
      "  -m, --max-count=NUM       stop after NUM matches\r\n",
      "  -b, --byte-offset         print the byte offset with output lines\r\n",
      "  -n, --line-number         print line number with output lines\r\n",
      "      --line-buffered       flush output on every line\r\n",
      "  -H, --with-filename       print the file name for each match\r\n",
      "  -h, --no-filename         suppress the file name prefix on output\r\n",
      "      --label=LABEL         use LABEL as the standard input file name prefix\r\n",
      "  -o, --only-matching       show only the part of a line matching PATTERN\r\n",
      "  -q, --quiet, --silent     suppress all normal output\r\n",
      "      --binary-files=TYPE   assume that binary files are TYPE;\r\n",
      "                            TYPE is 'binary', 'text', or 'without-match'\r\n",
      "  -a, --text                equivalent to --binary-files=text\r\n",
      "  -I                        equivalent to --binary-files=without-match\r\n",
      "  -d, --directories=ACTION  how to handle directories;\r\n",
      "                            ACTION is 'read', 'recurse', or 'skip'\r\n",
      "  -D, --devices=ACTION      how to handle devices, FIFOs and sockets;\r\n",
      "                            ACTION is 'read' or 'skip'\r\n",
      "  -r, --recursive           like --directories=recurse\r\n",
      "  -R, --dereference-recursive  likewise, but follow all symlinks\r\n",
      "      --include=FILE_PATTERN  search only files that match FILE_PATTERN\r\n",
      "      --exclude=FILE_PATTERN  skip files and directories matching FILE_PATTERN\r\n",
      "      --exclude-from=FILE   skip files matching any file pattern from FILE\r\n",
      "      --exclude-dir=PATTERN  directories that match PATTERN will be skipped.\r\n",
      "  -L, --files-without-match  print only names of FILEs containing no match\r\n",
      "  -l, --files-with-matches  print only names of FILEs containing matches\r\n",
      "  -c, --count               print only a count of matching lines per FILE\r\n",
      "  -T, --initial-tab         make tabs line up (if needed)\r\n",
      "  -Z, --null                print 0 byte after FILE name\r\n",
      "\r\n",
      "Context control:\r\n",
      "  -B, --before-context=NUM  print NUM lines of leading context\r\n",
      "  -A, --after-context=NUM   print NUM lines of trailing context\r\n",
      "  -C, --context=NUM         print NUM lines of output context\r\n",
      "  -NUM                      same as --context=NUM\r\n",
      "      --color[=WHEN],\r\n",
      "      --colour[=WHEN]       use markers to highlight the matching strings;\r\n",
      "                            WHEN is 'always', 'never', or 'auto'\r\n",
      "  -U, --binary              do not strip CR characters at EOL (MSDOS/Windows)\r\n",
      "  -u, --unix-byte-offsets   report offsets as if CRs were not there\r\n",
      "                            (MSDOS/Windows)\r\n",
      "\r\n",
      "'egrep' means 'grep -E'.  'fgrep' means 'grep -F'.\r\n",
      "Direct invocation as either 'egrep' or 'fgrep' is deprecated.\r\n",
      "When FILE is -, read standard input.  With no FILE, read . if a command-line\r\n",
      "-r is given, - otherwise.  If fewer than two FILEs are given, assume -h.\r\n",
      "Exit status is 0 if any line is selected, 1 otherwise;\r\n",
      "if any error occurs and -q is not given, the exit status is 2.\r\n",
      "\r\n",
      "Report bugs to: bug-grep@gnu.org\r\n",
      "GNU Grep home page: <http://www.gnu.org/software/grep/>\r\n",
      "General help using GNU software: <http://www.gnu.org/gethelp/>\r\n"
     ]
    }
   ],
   "source": [
    "!grep --help"
   ]
  },
  {
   "cell_type": "markdown",
   "metadata": {
    "slideshow": {
     "slide_type": "skip"
    }
   },
   "source": [
    "- While `grep` finds lines in a file matching a pattern, the `find` command finds files themselves."
   ]
  },
  {
   "cell_type": "code",
   "execution_count": 133,
   "metadata": {
    "slideshow": {
     "slide_type": "skip"
    }
   },
   "outputs": [
    {
     "data": {
      "text/plain": [
       "'/Users/bourque/Desktop/swc/data-shell/writing'"
      ]
     },
     "execution_count": 133,
     "metadata": {},
     "output_type": "execute_result"
    }
   ],
   "source": [
    "# Show directory structure"
   ]
  },
  {
   "cell_type": "code",
   "execution_count": 136,
   "metadata": {
    "slideshow": {
     "slide_type": "skip"
    }
   },
   "outputs": [
    {
     "data": {
      "text/plain": [
       "'/Users/bourque/Desktop/swc/data-shell/writing'"
      ]
     },
     "execution_count": 136,
     "metadata": {},
     "output_type": "execute_result"
    }
   ],
   "source": [
    "pwd"
   ]
  },
  {
   "cell_type": "code",
   "execution_count": 138,
   "metadata": {
    "slideshow": {
     "slide_type": "skip"
    }
   },
   "outputs": [
    {
     "name": "stdout",
     "output_type": "stream",
     "text": [
      ".\r\n",
      "./data\r\n",
      "./data/LittleWomen.txt\r\n",
      "./data/one.txt\r\n",
      "./data/two.txt\r\n",
      "./haiku.txt\r\n",
      "./thesis\r\n",
      "./thesis/empty-draft.md\r\n",
      "./tools\r\n",
      "./tools/format\r\n",
      "./tools/old\r\n",
      "./tools/old/oldtool\r\n",
      "./tools/stats\r\n"
     ]
    }
   ],
   "source": [
    "!find ."
   ]
  },
  {
   "cell_type": "markdown",
   "metadata": {
    "slideshow": {
     "slide_type": "skip"
    }
   },
   "source": [
    "- The `.` on its own means the current working directory\n",
    "- The `-type d/f` options lets us find only directories or files"
   ]
  },
  {
   "cell_type": "code",
   "execution_count": 139,
   "metadata": {
    "slideshow": {
     "slide_type": "skip"
    }
   },
   "outputs": [
    {
     "name": "stdout",
     "output_type": "stream",
     "text": [
      ".\r\n",
      "./data\r\n",
      "./thesis\r\n",
      "./tools\r\n",
      "./tools/old\r\n"
     ]
    }
   ],
   "source": [
    "!find . -type d"
   ]
  },
  {
   "cell_type": "code",
   "execution_count": 140,
   "metadata": {
    "slideshow": {
     "slide_type": "skip"
    }
   },
   "outputs": [
    {
     "name": "stdout",
     "output_type": "stream",
     "text": [
      "./data/LittleWomen.txt\r\n",
      "./data/one.txt\r\n",
      "./data/two.txt\r\n",
      "./haiku.txt\r\n",
      "./thesis/empty-draft.md\r\n",
      "./tools/format\r\n",
      "./tools/old/oldtool\r\n",
      "./tools/stats\r\n"
     ]
    }
   ],
   "source": [
    "!find . -type f"
   ]
  },
  {
   "cell_type": "code",
   "execution_count": 141,
   "metadata": {
    "slideshow": {
     "slide_type": "skip"
    }
   },
   "outputs": [
    {
     "name": "stdout",
     "output_type": "stream",
     "text": [
      "./haiku.txt\r\n"
     ]
    }
   ],
   "source": [
    "!find . -name *.txt"
   ]
  },
  {
   "cell_type": "markdown",
   "metadata": {
    "slideshow": {
     "slide_type": "skip"
    }
   },
   "source": [
    "- Remember that shell expands wilecard characters *before* comamnds run.  Since `*.txt` in the current working directory expands to `haiku.txt`, the command we actually ran was:"
   ]
  },
  {
   "cell_type": "code",
   "execution_count": 142,
   "metadata": {
    "slideshow": {
     "slide_type": "skip"
    }
   },
   "outputs": [
    {
     "name": "stdout",
     "output_type": "stream",
     "text": [
      "./haiku.txt\r\n"
     ]
    }
   ],
   "source": [
    "!find . -name haiku.txt"
   ]
  },
  {
   "cell_type": "code",
   "execution_count": 143,
   "metadata": {
    "slideshow": {
     "slide_type": "skip"
    }
   },
   "outputs": [
    {
     "name": "stdout",
     "output_type": "stream",
     "text": [
      "./data/LittleWomen.txt\r\n",
      "./data/one.txt\r\n",
      "./data/two.txt\r\n",
      "./haiku.txt\r\n"
     ]
    }
   ],
   "source": [
    "!find . -name '*.txt'"
   ]
  },
  {
   "cell_type": "markdown",
   "metadata": {
    "collapsed": true,
    "slideshow": {
     "slide_type": "fragment"
    }
   },
   "source": [
    "To recap what we have learned:\n",
    "\n",
    "- `find` finds files with specific properties that match patterns.\n",
    "- `grep` selects lines in files that match patterns."
   ]
  },
  {
   "cell_type": "markdown",
   "metadata": {
    "slideshow": {
     "slide_type": "fragment"
    }
   },
   "source": [
    "**Exercise**\n",
    "\n",
    "The directory `data-shell/data/elements` contains `xml` files with information about each element in the periodic table.  One peice of information in each of these files is the `<element name>`.\n",
    "\n",
    "Write a `for` loop that prints the name of the file and the `element name` for each file in the directory."
   ]
  },
  {
   "cell_type": "markdown",
   "metadata": {
    "slideshow": {
     "slide_type": "skip"
    }
   },
   "source": [
    "*Solution:*\n",
    "\n",
    "```\n",
    "for filename in *.xml\n",
    "do   \n",
    "  echo $filename\n",
    "  cat $filename | grep 'element name'\n",
    "done\n",
    "```"
   ]
  }
 ],
 "metadata": {
  "anaconda-cloud": {},
  "celltoolbar": "Slideshow",
  "kernelspec": {
   "display_name": "Python [default]",
   "language": "python",
   "name": "python3"
  },
  "language_info": {
   "codemirror_mode": {
    "name": "ipython",
    "version": 3
   },
   "file_extension": ".py",
   "mimetype": "text/x-python",
   "name": "python",
   "nbconvert_exporter": "python",
   "pygments_lexer": "ipython3",
   "version": "3.5.4"
  }
 },
 "nbformat": 4,
 "nbformat_minor": 1
}
